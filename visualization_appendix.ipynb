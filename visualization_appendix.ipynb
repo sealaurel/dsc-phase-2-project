{
 "cells": [
  {
   "cell_type": "code",
   "execution_count": null,
   "metadata": {
    "ExecuteTime": {
     "end_time": "2021-05-12T03:09:16.835338Z",
     "start_time": "2021-05-12T03:09:15.288041Z"
    }
   },
   "outputs": [],
   "source": [
    "import pandas as pd\n",
    "import numpy as np\n",
    "import matplotlib.pyplot as plt\n",
    "import seaborn as sns\n",
    "import folium\n",
    "import json\n",
    "import plotly.express as px\n",
    "\n",
    "from matplotlib import style\n",
    "from folium import plugins\n",
    "from plotly.subplots import make_subplots\n",
    "\n",
    "#from mlxtend.evaluate import bias_variance_decomp\n",
    "\n",
    "from warnings import filterwarnings\n",
    "filterwarnings('ignore')\n",
    "\n",
    "%matplotlib inline"
   ]
  },
  {
   "cell_type": "code",
   "execution_count": null,
   "metadata": {
    "ExecuteTime": {
     "end_time": "2021-05-12T03:09:16.850989Z",
     "start_time": "2021-05-12T03:09:16.836339Z"
    }
   },
   "outputs": [],
   "source": [
    "# Choropleth Function\n",
    "\n",
    "#Zipcode choropleth maps with average values per a zipcode (King County)\n",
    "def map_choropleth_zip(df, column, title, column_name):\n",
    "    fig=px.choropleth_mapbox(data_frame=df, locations='zipcode', geojson=KC_zip_json, color=column, \n",
    "                         mapbox_style='open-street-map', zoom=8.5, height=900, featureidkey='properties.ZCTA5CE10', \n",
    "                        center={'lat': 47.403768, 'lon': -122.005863}, opacity=0.4,\n",
    "                        color_continuous_scale=px.colors.sequential.YlOrRd,\n",
    "                        title=title,\n",
    "                        template = \"plotly_dark\", \n",
    "                        labels={\n",
    "                            column: column_name})\n",
    "    fig.update_layout(\n",
    "    font_family=\"Arial\",\n",
    "    font_size=16,\n",
    "    font_color=\"white\",\n",
    "    title_font_family=\"Arial\",\n",
    "    title_font_color=\"white\",\n",
    "    title_font_size=20)\n",
    "    \n",
    "    fig.update_layout(\n",
    "    title={\n",
    "        'y':0.98,\n",
    "        'x':0.5,\n",
    "        'xanchor': 'center',\n",
    "        'yanchor': 'top',\n",
    "    })\n",
    "    \n",
    "    fig.show()\n",
    "    return None\n"
   ]
  },
  {
   "cell_type": "code",
   "execution_count": null,
   "metadata": {
    "ExecuteTime": {
     "end_time": "2021-05-12T03:09:17.920967Z",
     "start_time": "2021-05-12T03:09:16.851990Z"
    }
   },
   "outputs": [],
   "source": [
    "# Importing raw data\n",
    "df=pd.read_csv('data/kc_house_data.csv')\n",
    "df_test=pd.read_csv('data/df_test.csv', dtype={'recent_renovation_new_str': str})\n",
    "df_zipcode_viz=pd.read_csv('data/df_zipcode_vs.csv')\n",
    "KC_zip_json=json.load(open('data/wa_washington_zip_codes_geo.min.json', 'r'))"
   ]
  },
  {
   "cell_type": "markdown",
   "metadata": {},
   "source": [
    "><b>Displaying DataFrames</b>"
   ]
  },
  {
   "cell_type": "code",
   "execution_count": null,
   "metadata": {
    "ExecuteTime": {
     "end_time": "2021-05-12T03:09:17.936970Z",
     "start_time": "2021-05-12T03:09:17.921967Z"
    }
   },
   "outputs": [],
   "source": [
    "df_test.info()"
   ]
  },
  {
   "cell_type": "code",
   "execution_count": null,
   "metadata": {
    "ExecuteTime": {
     "end_time": "2021-05-12T03:09:17.967977Z",
     "start_time": "2021-05-12T03:09:17.937971Z"
    }
   },
   "outputs": [],
   "source": [
    "df_zipcode_viz"
   ]
  },
  {
   "cell_type": "markdown",
   "metadata": {},
   "source": [
    "><b>Visualization</b>"
   ]
  },
  {
   "cell_type": "code",
   "execution_count": null,
   "metadata": {
    "ExecuteTime": {
     "end_time": "2021-05-12T03:09:19.741606Z",
     "start_time": "2021-05-12T03:09:17.968977Z"
    }
   },
   "outputs": [],
   "source": [
    "# Regplots for all four variables\n",
    "\n",
    "sns.set_style(\"darkgrid\", {\"axes.facecolor\": \".6\"})\n",
    "fig, axes = plt.subplots(figsize=(20,20), ncols=2, nrows=2)\n",
    "\n",
    "g1=sns.regplot(data=df_test, x=\"sqft_living_st\", y=\"price\", color=\"#003300\", fit_reg=True,\n",
    "               ax=axes[0,0], line_kws={\"color\": \"red\", \"lw\":5});\n",
    "g2=sns.regplot(data=df_test, x=\"distance_st\", y=\"price\", color=\"#000066\", \n",
    "               ax=axes[0,1], line_kws={\"color\": \"red\", \"lw\":5});\n",
    "g3=sns.regplot(data=df_test, x=\"bathrooms_st\", y=\"price\", color=\"#009900\", \n",
    "               ax=axes[1,0], line_kws={\"color\": \"red\", \"lw\":5});\n",
    "g4=sns.regplot(data=df_test, x=\"grade_st\", y=\"price\", color=\"#0000ff\", \n",
    "               ax=axes[1,1], line_kws={\"color\": \"red\", \"lw\":5});\n",
    "\n",
    "axes[0,0].set_title(\"Prive vs Living Space\", fontsize=26);\n",
    "axes[0,0].set_ylabel('Price', fontsize=20)\n",
    "axes[0,0].set_xlabel('Living Footage, adjusted', fontsize=20)\n",
    "axes[0,0].set_xlim(-0.01, 1.0)\n",
    "ylabels = ['{:,.1f}'.format(x) + 'M' for x in g1.get_yticks()/1000000]\n",
    "axes[0,0].set_yticklabels(ylabels, size=15)\n",
    "axes[0,0].grid(color='lightgrey')\n",
    "\n",
    "axes[0,1].set_title(\"Price vs Distance from City Center\", fontsize=26);\n",
    "axes[0,1].set_ylabel('Price', fontsize=20)\n",
    "axes[0,1].set_xlabel('Distance, adjusted', fontsize=20)\n",
    "axes[0,1].set_xlim(-0.01, 1.0)\n",
    "ylabels = ['{:,.1f}'.format(x) + 'M' for x in g2.get_yticks()/1000000]\n",
    "axes[0,1].set_yticklabels(ylabels, size=15)\n",
    "axes[0,1].grid(color='lightgrey')\n",
    "\n",
    "axes[1,0].set_title(\"Price vs Number of Bathrooms\", fontsize=26);\n",
    "axes[1,0].set_ylabel('Price', fontsize=20)\n",
    "axes[1,0].set_xlabel('Number of Bathrooms, adjusted', fontsize=20)\n",
    "axes[1,0].set_xlim(-0.01, 1.0)\n",
    "ylabels = ['{:,.1f}'.format(x) + 'M' for x in g3.get_yticks()/1000000]\n",
    "axes[1,0].set_yticklabels(ylabels, size=15)\n",
    "axes[1,0].grid(color='lightgrey')\n",
    "\n",
    "axes[1,1].set_title(\"Price vs Building Grade\", fontsize=26);\n",
    "axes[1,1].set_ylabel('Price', fontsize=20)\n",
    "axes[1,1].set_xlabel('Building Grade, adjusted', fontsize=20)\n",
    "axes[1,1].set_xlim(-0.01, 1.0)\n",
    "ylabels = ['{:,.1f}'.format(x) + 'M' for x in g4.get_yticks()/1000000]\n",
    "axes[1,1].set_yticklabels(ylabels, size=15)\n",
    "axes[1,1].grid(color='lightgrey')\n",
    "\n",
    "\n",
    "plt.suptitle(\"Regression plots of Price vs Four Independent Variables\", size=30, c=\"Blue\")\n",
    "plt.tight_layout(pad=3)\n"
   ]
  },
  {
   "cell_type": "code",
   "execution_count": null,
   "metadata": {
    "ExecuteTime": {
     "end_time": "2021-05-12T03:09:21.482005Z",
     "start_time": "2021-05-12T03:09:19.742607Z"
    }
   },
   "outputs": [],
   "source": [
    "# Regplots for all four variables\n",
    "\n",
    "sns.set_style(\"darkgrid\", {\"axes.facecolor\": \".6\"})\n",
    "fig, axes = plt.subplots(figsize=(20,20), ncols=2, nrows=2)\n",
    "\n",
    "g1=sns.regplot(data=df_test, x=\"sqft_living_st\", y=\"log_price\", color=\"#003300\", fit_reg=True,\n",
    "               ax=axes[0,0], line_kws={\"color\": \"red\", \"lw\":5});\n",
    "g2=sns.regplot(data=df_test, x=\"distance_st\", y=\"log_price\", color=\"#000066\", \n",
    "               ax=axes[0,1], line_kws={\"color\": \"red\", \"lw\":5});\n",
    "g3=sns.regplot(data=df_test, x=\"bathrooms_st\", y=\"log_price\", color=\"#009900\", \n",
    "               ax=axes[1,0], line_kws={\"color\": \"red\", \"lw\":5});\n",
    "g4=sns.regplot(data=df_test, x=\"grade_st\", y=\"log_price\", color=\"#0000ff\", \n",
    "               ax=axes[1,1], line_kws={\"color\": \"red\", \"lw\":5});\n",
    "\n",
    "axes[0,0].set_title(\"Ln(Price) vs Living Space\", fontsize=26);\n",
    "axes[0,0].set_ylabel('Ln(Price)', fontsize=20)\n",
    "axes[0,0].set_xlabel('Living Footage, adjusted', fontsize=20)\n",
    "axes[0,0].set_xlim(-0.01, 1.0)\n",
    "ylabels = ['{:,.1f}'.format(x) for x in g1.get_yticks()]\n",
    "axes[0,0].set_yticklabels(ylabels, size=15)\n",
    "axes[0,0].grid(color='lightgrey')\n",
    "\n",
    "axes[0,1].set_title(\"Ln(Price) vs Distance from City Center\", fontsize=26);\n",
    "axes[0,1].set_ylabel('Ln(Price)', fontsize=20)\n",
    "axes[0,1].set_xlabel('Distance, adjusted', fontsize=20)\n",
    "axes[0,1].set_xlim(-0.01, 1.0)\n",
    "ylabels = ['{:,.1f}'.format(x) for x in g2.get_yticks()]\n",
    "axes[0,1].set_yticklabels(ylabels, size=15)\n",
    "axes[0,1].grid(color='lightgrey')\n",
    "\n",
    "axes[1,0].set_title(\"Ln(Price) vs Number of Bathrooms\", fontsize=26);\n",
    "axes[1,0].set_ylabel('Ln(Price)', fontsize=20)\n",
    "axes[1,0].set_xlabel('Number of Bathrooms, adjusted', fontsize=20)\n",
    "axes[1,0].set_xlim(-0.01, 1.0)\n",
    "ylabels = ['{:,.1f}'.format(x) for x in g3.get_yticks()]\n",
    "axes[1,0].set_yticklabels(ylabels, size=15)\n",
    "axes[1,0].grid(color='lightgrey')\n",
    "\n",
    "axes[1,1].set_title(\"Ln(Price) vs Building Grade\", fontsize=26);\n",
    "axes[1,1].set_ylabel('Ln(Price)', fontsize=20)\n",
    "axes[1,1].set_xlabel('Building Grade, adjusted', fontsize=20)\n",
    "axes[1,1].set_xlim(-0.01, 1.0)\n",
    "ylabels = ['{:,.1f}'.format(x) for x in g4.get_yticks()]\n",
    "axes[1,1].set_yticklabels(ylabels, size=15)\n",
    "axes[1,1].grid(color='lightgrey')\n",
    "\n",
    "plt.suptitle(\"Regression plots of Ln(Price) vs Four Independent Variables\", size=30, c=\"Blue\")\n",
    "plt.tight_layout(pad=3)"
   ]
  },
  {
   "cell_type": "code",
   "execution_count": null,
   "metadata": {
    "ExecuteTime": {
     "end_time": "2021-05-12T03:09:21.497512Z",
     "start_time": "2021-05-12T03:09:21.483006Z"
    }
   },
   "outputs": [],
   "source": [
    "df_test_sample=df_test.sample(n=250, random_state=123)"
   ]
  },
  {
   "cell_type": "code",
   "execution_count": null,
   "metadata": {
    "ExecuteTime": {
     "end_time": "2021-05-12T03:17:21.844217Z",
     "start_time": "2021-05-12T03:17:21.754681Z"
    }
   },
   "outputs": [],
   "source": [
    "fig = px.scatter(df_test_sample, x='sqft_living', y='price',  trendline='ols', trendline_color_override='white',\n",
    "                 color='grade', size='distance',width=1000, height=800, size_max=20, \n",
    "                 color_continuous_scale=px.colors.sequential.Blackbody_r,\n",
    "                 labels={\n",
    "                     \"price\": \"Price\",\n",
    "                     \"sqft_living\": \"Living Space (sq ft)\",\n",
    "                     \"grade\": \"Building Grade\"\n",
    "                  },\n",
    "                title=\"<b>Correlation: Property Price vs Living Space Footage</b><br><i>Sized by Distance</i>\",  template = \"plotly_dark\")\n",
    "\n",
    "fig.update_traces(marker=dict(\n",
    "            line=dict(\n",
    "                color='coral',\n",
    "                width=0.5\n",
    "            )))\n",
    "fig.update_layout(\n",
    "    font_family=\"Arial\",\n",
    "    font_size=18,\n",
    "    font_color=\"white\",\n",
    "    title_font_family=\"Arial\",\n",
    "    title_font_color=\"white\",\n",
    "\n",
    ")\n",
    "fig.update_layout(\n",
    "    title={\n",
    "        'y':0.95,\n",
    "        'x':0.5,\n",
    "        'xanchor': 'center',\n",
    "        'yanchor': 'top',\n",
    "})\n",
    "\n",
    "\n",
    "fig.show()"
   ]
  },
  {
   "cell_type": "code",
   "execution_count": null,
   "metadata": {
    "ExecuteTime": {
     "end_time": "2021-05-12T03:17:07.634065Z",
     "start_time": "2021-05-12T03:17:07.561554Z"
    }
   },
   "outputs": [],
   "source": [
    "fig = px.scatter(df_test_sample, x='bathrooms', y='price', color_continuous_scale=px.colors.sequential.Blackbody_r,\n",
    "                 size='sqft_living',size_max=20,\n",
    "                 trendline='ols', trendline_color_override='white', color='grade',\n",
    "                 width=1000, height=800, labels={\n",
    "                     \"price\": \"Price\",\n",
    "                     \"bathrooms\": \"Number of bathrooms\",\n",
    "                     \"grade\": \"Building Grade\"\n",
    "                 },\n",
    "                title=\"<b>Correlation: Property Price vs Number of Bathrooms</b><br><i>Sized by Living Space</i>\",\n",
    "                 template = \"plotly_dark\")\n",
    "\n",
    "\n",
    "fig.update_traces(marker=dict(\n",
    "            line=dict(\n",
    "                color='coral',\n",
    "                width=0.5\n",
    "            )))\n",
    "fig.update_layout(\n",
    "    font_family=\"Arial\",\n",
    "    font_size=18,\n",
    "    font_color=\"white\",\n",
    "    title_font_family=\"Arial\",\n",
    "    title_font_color=\"white\",\n",
    "\n",
    ")\n",
    "\n",
    "fig.update_layout(\n",
    "    title={\n",
    "        'y':0.95,\n",
    "        'x':0.5,\n",
    "        'xanchor': 'center',\n",
    "        'yanchor': 'top',\n",
    "})\n",
    "\n",
    "\n",
    "fig.show()"
   ]
  },
  {
   "cell_type": "code",
   "execution_count": null,
   "metadata": {
    "ExecuteTime": {
     "end_time": "2021-05-12T03:16:45.554622Z",
     "start_time": "2021-05-12T03:16:45.170536Z"
    }
   },
   "outputs": [],
   "source": [
    "fig = px.scatter(df_test_sample, x='distance', y='price',  trendline='ols', trendline_color_override='white',\n",
    "                 color='grade', size='bathrooms',width=1000, height=800, size_max=20, \n",
    "                 color_continuous_scale=px.colors.sequential.Blackbody_r,\n",
    "                 labels={\n",
    "                     \"price\": \"Price\",\n",
    "                     \"distance\": \"Distance\",\n",
    "                     \"grade\": \"Building Grade\"\n",
    "                  },\n",
    "                title=\"<b>Correlation: Property Price vs Distance from the City Center</b><br><i>Sized by Number of Bathrooms</i>\",  template = \"plotly_dark\")\n",
    "\n",
    "fig.update_traces(marker=dict(\n",
    "            line=dict(\n",
    "                color='coral',\n",
    "                width=0.5\n",
    "            )))\n",
    "fig.update_layout(\n",
    "    font_family=\"Arial\",\n",
    "    font_size=18,\n",
    "    font_color=\"white\",\n",
    "    title_font_family=\"Arial\",\n",
    "    title_font_color=\"white\",\n",
    "\n",
    ")\n",
    "fig.update_layout(\n",
    "    title={\n",
    "        'y':0.95,\n",
    "        'x':0.5,\n",
    "        'xanchor': 'center',\n",
    "        'yanchor': 'top',\n",
    "})\n",
    "\n",
    "\n",
    "fig.show()"
   ]
  },
  {
   "cell_type": "code",
   "execution_count": null,
   "metadata": {
    "ExecuteTime": {
     "end_time": "2021-05-12T03:09:22.615267Z",
     "start_time": "2021-05-12T03:09:22.521246Z"
    }
   },
   "outputs": [],
   "source": [
    "fig = px.scatter(df_test_sample, x='sqft_living', y='price',  trendline='ols',\n",
    "                 color='recent_renovation_new_str', width=1000, height=800, size_max=20, \n",
    "                 labels={\n",
    "                     \"price\": \"Price\",\n",
    "                     \"sqft_living\": \"Living Space (sq ft)\",\n",
    "                     \"recent_renovation_new_str\": \"Newer(1)/Older(0)\"\n",
    "                  },\n",
    "                title=\"Correlation: Property Price vs Living Space Footage of Newer vs Older Properties\",\n",
    "                 template = \"plotly_dark\")\n",
    "\n",
    "fig.update_traces(marker=dict(\n",
    "            line=dict(\n",
    "                color='coral',\n",
    "                width=0.5\n",
    "            )))\n",
    "fig.update_layout(\n",
    "    font_family=\"Arial\",\n",
    "    font_size=18,\n",
    "    font_color=\"white\",\n",
    "    title_font_family=\"Arial\",\n",
    "    title_font_color=\"white\",\n",
    "\n",
    ")\n",
    "fig.update_layout(\n",
    "    title={\n",
    "        'y':0.95,\n",
    "        'x':0.5,\n",
    "        'xanchor': 'center',\n",
    "        'yanchor': 'top',\n",
    "})\n",
    "\n",
    "\n",
    "fig.show()"
   ]
  },
  {
   "cell_type": "code",
   "execution_count": null,
   "metadata": {
    "ExecuteTime": {
     "end_time": "2021-05-12T03:09:22.711288Z",
     "start_time": "2021-05-12T03:09:22.616267Z"
    }
   },
   "outputs": [],
   "source": [
    "fig = px.scatter_3d(df_test_sample, x='bathrooms', z='grade', y='sqft_living',\n",
    "              color='price', size='distance', size_max=50, opacity=1, width=1000, height=800,\n",
    "                   color_continuous_scale=px.colors.sequential.Blackbody_r, \n",
    "                   labels={\n",
    "                     \"bathrooms\": \"Number of Bathrooms\",\n",
    "                     \"sqft_living\": \"Living Space (sq ft)\",\n",
    "                     \"grade\": \"Grade\",\n",
    "                       \"price\": \"Price\"\n",
    "                  },\n",
    "                title=\"3D plot: Living Space Footage, Number of Bathrooms and Grade of Sold Properties\",\n",
    "                   template = \"plotly_dark\")\n",
    "\n",
    "fig.update_traces(marker=dict(\n",
    "            line=dict(\n",
    "                color='coral',\n",
    "                width=0.5\n",
    "            )))\n",
    "fig.update_layout(\n",
    "    font_family=\"Arial\",\n",
    "    font_size=16,\n",
    "    font_color=\"white\",\n",
    "    title_font_family=\"Arial\",\n",
    "    title_font_color=\"white\"\n",
    ")\n",
    "fig.update_layout(\n",
    "    title={\n",
    "        'y':0.9,\n",
    "        'x':0.5,\n",
    "        'xanchor': 'center',\n",
    "        'yanchor': 'top',\n",
    "})\n",
    "\n",
    "\n",
    "fig.show()"
   ]
  },
  {
   "cell_type": "code",
   "execution_count": null,
   "metadata": {
    "ExecuteTime": {
     "end_time": "2021-05-12T03:09:22.983350Z",
     "start_time": "2021-05-12T03:09:22.712288Z"
    }
   },
   "outputs": [],
   "source": [
    "df_cut_off=df.copy()\n",
    "df_cut_off=df_cut_off[(df_cut_off['price']<1500000)]\n",
    "\n",
    "fig = px.scatter_mapbox(df_cut_off, lat=\"lat\", lon=\"long\", color=\"price\", \n",
    "                  color_continuous_scale=px.colors.sequential.Plasma, zoom=10, \n",
    "                        mapbox_style='open-street-map', width=900, height=900,\n",
    "                        title=\"Properties Sold in King County in 2014-2015\",\n",
    "                   template = \"plotly_dark\")\n",
    "\n",
    "fig.update_layout(\n",
    "    font_family=\"Arial\",\n",
    "    font_size=20,\n",
    "    font_color=\"white\",\n",
    "    title_font_family=\"Arial\",\n",
    "    title_font_color=\"white\"\n",
    ")\n",
    "fig.update_layout(\n",
    "    title={\n",
    "        'y':0.98,\n",
    "        'x':0.5,\n",
    "        'xanchor': 'center',\n",
    "        'yanchor': 'top',\n",
    "})\n",
    "\n",
    "\n",
    "fig.show()"
   ]
  },
  {
   "cell_type": "code",
   "execution_count": null,
   "metadata": {
    "ExecuteTime": {
     "end_time": "2021-05-12T03:09:43.386641Z",
     "start_time": "2021-05-12T03:09:22.984351Z"
    }
   },
   "outputs": [],
   "source": [
    "map_choropleth_zip(df_zipcode_viz, 'price', \"Average Prices of Sold Properties per Zipcode (King County, 2014-2015)\", \n",
    "                   \"Price\")"
   ]
  },
  {
   "cell_type": "code",
   "execution_count": null,
   "metadata": {
    "ExecuteTime": {
     "end_time": "2021-05-12T03:10:04.288282Z",
     "start_time": "2021-05-12T03:09:43.387642Z"
    }
   },
   "outputs": [],
   "source": [
    "map_choropleth_zip(df_zipcode_viz, 'sqft_lot', \"Average Lot Size of Sold Properties per Zipcode (King County, 2014-2015)\",\n",
    "                   \"Lot size (sq ft)\")"
   ]
  },
  {
   "cell_type": "code",
   "execution_count": null,
   "metadata": {
    "ExecuteTime": {
     "end_time": "2021-05-12T03:10:25.325322Z",
     "start_time": "2021-05-12T03:10:04.289274Z"
    }
   },
   "outputs": [],
   "source": [
    "map_choropleth_zip(df_zipcode_viz, 'sqft_living', \"Average Living Space of Sold Properties per Zipcode (King County, 2014-2015)\", \n",
    "                   \"Living Space (sq ft) \")"
   ]
  },
  {
   "cell_type": "code",
   "execution_count": null,
   "metadata": {
    "ExecuteTime": {
     "end_time": "2021-05-12T03:10:47.009312Z",
     "start_time": "2021-05-12T03:10:25.326323Z"
    }
   },
   "outputs": [],
   "source": [
    "map_choropleth_zip(df_zipcode_viz, 'view', \"Average View Category of Sold Properties per Zipcode (King County, 2014-2015)\", \n",
    "                   \"View Category\")"
   ]
  },
  {
   "cell_type": "code",
   "execution_count": null,
   "metadata": {
    "ExecuteTime": {
     "end_time": "2021-05-12T03:11:07.870450Z",
     "start_time": "2021-05-12T03:10:47.011314Z"
    }
   },
   "outputs": [],
   "source": [
    "map_choropleth_zip(df_zipcode_viz, 'yr_built', \"Average Year Built of Sold Properties per Zipcode (King County, 2014-2015)\", \n",
    "                   \"Year Built\")"
   ]
  }
 ],
 "metadata": {
  "hide_input": false,
  "kernelspec": {
   "display_name": "learn-env",
   "language": "python",
   "name": "learn-env"
  },
  "language_info": {
   "codemirror_mode": {
    "name": "ipython",
    "version": 3
   },
   "file_extension": ".py",
   "mimetype": "text/x-python",
   "name": "python",
   "nbconvert_exporter": "python",
   "pygments_lexer": "ipython3",
   "version": "3.8.5"
  },
  "toc": {
   "base_numbering": 1,
   "nav_menu": {},
   "number_sections": true,
   "sideBar": true,
   "skip_h1_title": false,
   "title_cell": "Table of Contents",
   "title_sidebar": "Contents",
   "toc_cell": false,
   "toc_position": {},
   "toc_section_display": true,
   "toc_window_display": false
  },
  "varInspector": {
   "cols": {
    "lenName": 16,
    "lenType": 16,
    "lenVar": 40
   },
   "kernels_config": {
    "python": {
     "delete_cmd_postfix": "",
     "delete_cmd_prefix": "del ",
     "library": "var_list.py",
     "varRefreshCmd": "print(var_dic_list())"
    },
    "r": {
     "delete_cmd_postfix": ") ",
     "delete_cmd_prefix": "rm(",
     "library": "var_list.r",
     "varRefreshCmd": "cat(var_dic_list()) "
    }
   },
   "types_to_exclude": [
    "module",
    "function",
    "builtin_function_or_method",
    "instance",
    "_Feature"
   ],
   "window_display": false
  }
 },
 "nbformat": 4,
 "nbformat_minor": 4
}
